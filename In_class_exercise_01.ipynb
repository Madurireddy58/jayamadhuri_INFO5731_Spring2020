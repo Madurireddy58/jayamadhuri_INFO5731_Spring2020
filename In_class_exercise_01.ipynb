{
  "nbformat": 4,
  "nbformat_minor": 0,
  "metadata": {
    "colab": {
      "name": "In_class_exercise_01.ipynb",
      "provenance": [],
      "collapsed_sections": [],
      "include_colab_link": true
    },
    "kernelspec": {
      "display_name": "Python 3",
      "language": "python",
      "name": "python3"
    },
    "language_info": {
      "codemirror_mode": {
        "name": "ipython",
        "version": 3
      },
      "file_extension": ".py",
      "mimetype": "text/x-python",
      "name": "python",
      "nbconvert_exporter": "python",
      "pygments_lexer": "ipython3",
      "version": "3.7.6"
    }
  },
  "cells": [
    {
      "cell_type": "markdown",
      "metadata": {
        "id": "view-in-github",
        "colab_type": "text"
      },
      "source": [
        "<a href=\"https://colab.research.google.com/github/Madurireddy58/jayamadhuri_INFO5731_Spring2020/blob/main/In_class_exercise_01.ipynb\" target=\"_parent\"><img src=\"https://colab.research.google.com/assets/colab-badge.svg\" alt=\"Open In Colab\"/></a>"
      ]
    },
    {
      "cell_type": "markdown",
      "metadata": {
        "id": "DymRJbxDBCnf"
      },
      "source": [
        "# **The first In-class-exercise (1/19/2021, 20 points in total)**"
      ]
    },
    {
      "cell_type": "markdown",
      "metadata": {
        "id": "03jb4GZsBkBS"
      },
      "source": [
        "\r\n",
        "\r\n",
        "```\r\n",
        "# This is formatted as code\r\n",
        "```\r\n",
        "\r\n",
        "(1) Write a Python program to calculate the length of a string. (2 points)"
      ]
    },
    {
      "cell_type": "code",
      "metadata": {
        "id": "YaGLbSHHB8Ej",
        "colab": {
          "base_uri": "https://localhost:8080/"
        },
        "outputId": "31600d87-e79b-4845-db41-d1fde3b31d94"
      },
      "source": [
        "# using string function\n",
        "\n",
        "string = \"Jaya Madhuri\"\n",
        "len(string)\n",
        "\n",
        "#using without string function\n",
        "\n",
        "string = \"Jaya Madhuri\"\n",
        "total = 0\n",
        " \n",
        "for i in string:\n",
        "    total = total + 1\n",
        " \n",
        "print(\"The length of the given String = \", total)\n"
      ],
      "execution_count": 17,
      "outputs": [
        {
          "output_type": "stream",
          "text": [
            "The length of the given String =  12\n"
          ],
          "name": "stdout"
        }
      ]
    },
    {
      "cell_type": "code",
      "metadata": {
        "id": "BAWptyYzSMJ1"
      },
      "source": [
        ""
      ],
      "execution_count": null,
      "outputs": []
    },
    {
      "cell_type": "markdown",
      "metadata": {
        "id": "jJDe71iLB616"
      },
      "source": [
        "*italicized text*(2) Write a Python program to count the number of characters in a string. (2 points)\n",
        "\n",
        "Sample String : 'google.com‘, \n",
        "\n",
        "Expected Result : {'o': 3, 'g': 2, '.': 1, 'e': 1, 'l': 1, 'm': 1, 'c': 1}"
      ]
    },
    {
      "cell_type": "code",
      "metadata": {
        "id": "MtKskTzbCLaU",
        "colab": {
          "base_uri": "https://localhost:8080/"
        },
        "outputId": "f0933045-de09-4d3b-ed4f-06cb69e8894d"
      },
      "source": [
        " import operator\n",
        "\n",
        " def stringToDict(str1):\n",
        "   str_dict = dict()\n",
        "   for i in str1:\n",
        "     count=0\n",
        "     for s in str1:\n",
        "       if i == s:\n",
        "         count+=1\n",
        "     str_dict[i] = count\n",
        "   sorted_d = dict( sorted(str_dict.items() , key = operator.itemgetter(1), reverse = True))\n",
        "   return sorted_d\n",
        "\n",
        " string = 'google.com'\n",
        " print(\"Expected Result: \" , stringToDict(string))"
      ],
      "execution_count": 19,
      "outputs": [
        {
          "output_type": "stream",
          "text": [
            "Expected Result:  {'o': 3, 'g': 2, 'l': 1, 'e': 1, '.': 1, 'c': 1, 'm': 1}\n"
          ],
          "name": "stdout"
        }
      ]
    },
    {
      "cell_type": "markdown",
      "metadata": {
        "id": "55W9AMdXCSpV"
      },
      "source": [
        "(3) Write a Python program to sum all the items in a list. (2 points)"
      ]
    },
    {
      "cell_type": "code",
      "metadata": {
        "id": "I57NXsauCec2",
        "colab": {
          "base_uri": "https://localhost:8080/"
        },
        "outputId": "0d8af7d8-683c-4024-cd0e-1a74eb73640c"
      },
      "source": [
        "total = 0\r\n",
        "list_items = [5,-10,15,-20,25]\r\n",
        "for i in range(0, len(list_items)):\r\n",
        "    total = total + list_items[i]\r\n",
        "print(\"Sum of all items in a given list: \", total)"
      ],
      "execution_count": 20,
      "outputs": [
        {
          "output_type": "stream",
          "text": [
            "Sum of all items in a given list:  15\n"
          ],
          "name": "stdout"
        }
      ]
    },
    {
      "cell_type": "markdown",
      "metadata": {
        "id": "4ulBZ6yhCi9F"
      },
      "source": [
        "(4) Write a Python program to get a string from a given string where all occurrences of its first char have been changed to '\\$', except the first char itself. (2 points)\n",
        "\n",
        "Sample String : 'restart‘, \n",
        "\n",
        "Expected Result : 'resta\\$t'"
      ]
    },
    {
      "cell_type": "code",
      "metadata": {
        "id": "Fj0XhwbBCw2o",
        "colab": {
          "base_uri": "https://localhost:8080/"
        },
        "outputId": "26582563-7e8d-4d93-e75b-e038f7fe36dd"
      },
      "source": [
        "def change_character(string):\n",
        "  char = string[0]  \n",
        "  length = len(string)  \n",
        "  string = string.replace(char, '$')  \n",
        "  string = char + string[1:]  \n",
        "  return string  \n",
        "print(change_character('restart')) \n",
        "\n"
      ],
      "execution_count": 21,
      "outputs": [
        {
          "output_type": "stream",
          "text": [
            "resta$t\n"
          ],
          "name": "stdout"
        }
      ]
    },
    {
      "cell_type": "markdown",
      "metadata": {
        "id": "_bIP7s1MCzue"
      },
      "source": [
        "(5) Write a program with python which could accept two parameter a and b to calculate and output the result of S, where \n",
        "\n",
        "$\\ S=3.14*(1+a/b)^3$ (3 points)\n",
        "\n"
      ]
    },
    {
      "cell_type": "code",
      "metadata": {
        "id": "w79QilHXD3Mg",
        "colab": {
          "base_uri": "https://localhost:8080/"
        },
        "outputId": "95bc9c3a-4b8e-410d-814a-b1cd3b5632a7"
      },
      "source": [
        "#function to throw the error\n",
        "\n",
        "def errordescription(error_desc):\n",
        "  print(error_desc)\n",
        "  return\n",
        "#use function to accept two parameters \n",
        "def calculate(a,b):\n",
        "  if b == 0:\n",
        "   error(\"Error: Divide by zero\")\n",
        "  return 3.14 * (1 + a/b)**3\n",
        "parameter1 = int(input(\"Enter a parameter value a: \"))\n",
        "parameter2 = int(input(\"Enter a parameter value b: \"))\n",
        "print(\"The output result is: \" ,calculate(parameter1,parameter2))\n",
        "\n"
      ],
      "execution_count": 22,
      "outputs": [
        {
          "output_type": "stream",
          "text": [
            "Enter a parameter value a: 5\n",
            "Enter a parameter value b: 2\n",
            "The output result is:  134.6275\n"
          ],
          "name": "stdout"
        }
      ]
    },
    {
      "cell_type": "markdown",
      "metadata": {
        "id": "xCa2bK9aD4Q3"
      },
      "source": [
        "(6) Write a Python program to concatenate following dictionaries to create a new one. (3 points)\n",
        "\n",
        "Sample Dictionary : dic1={1:10, 2:20}, dic2={3:30, 4:40}, dic3={5:50,6:60}, \n",
        "\n",
        "Expected Result : {1: 10, 2: 20, 3: 30, 4: 40, 5: 50, 6: 60}\n"
      ]
    },
    {
      "cell_type": "code",
      "metadata": {
        "id": "_z4aLqAbEET1",
        "colab": {
          "base_uri": "https://localhost:8080/"
        },
        "outputId": "cfc86c5e-144a-41c3-cd2b-2730c92ae60b"
      },
      "source": [
        "dic1 = { 1: 10, 2: 20}\n",
        "dic2 = { 3: 30, 4: 40}\n",
        "dic3 = { 5 : 50, 6 : 60 }\n",
        "dic4 = {}\n",
        "for d in (dic1, dic2, dic3): dic4.update(d)\n",
        "print(dic4)"
      ],
      "execution_count": 23,
      "outputs": [
        {
          "output_type": "stream",
          "text": [
            "{1: 10, 2: 20, 3: 30, 4: 40, 5: 50, 6: 60}\n"
          ],
          "name": "stdout"
        }
      ]
    },
    {
      "cell_type": "markdown",
      "metadata": {
        "id": "0v48Vqa7FrQh"
      },
      "source": [
        "(7) Write a Python program to check whether an element exists within a tuple. \r\n",
        "\r\n",
        "1.   List item\r\n",
        "\r\n",
        "(3 points)"
      ]
    },
    {
      "cell_type": "code",
      "metadata": {
        "id": "7WEmgq-DF2P1",
        "colab": {
          "base_uri": "https://localhost:8080/"
        },
        "outputId": "1b1debaf-abed-4a56-ad57-9358f055ab76"
      },
      "source": [
        "tuple = (\"jaya madhuri\", 23 , \"Female\" , 5731)\n",
        "element = 23\n",
        "if element in tuple:\n",
        "    print(element,\"exists in tuple\")\n",
        "else:\n",
        "    print(element,\"does not exist in tuple\")     \n",
        "\n",
        "\n"
      ],
      "execution_count": 24,
      "outputs": [
        {
          "output_type": "stream",
          "text": [
            "23 exists in tuple\n"
          ],
          "name": "stdout"
        }
      ]
    },
    {
      "cell_type": "markdown",
      "metadata": {
        "id": "vD5PYLMuGga_"
      },
      "source": [
        "(8) Write a Python program to find maximum and the minimum value in a set. (3 points)"
      ]
    },
    {
      "cell_type": "code",
      "metadata": {
        "id": "t0D5kdJUGjjw",
        "colab": {
          "base_uri": "https://localhost:8080/"
        },
        "outputId": "e8c5eb06-a54a-4b0d-f130-e383419d5d71"
      },
      "source": [
        "set = {24, 25, 27, 29,45}\n",
        "# find maximum value\n",
        "print(max(set))\n",
        "#find minimum value\n",
        "print(min(set))\n"
      ],
      "execution_count": 25,
      "outputs": [
        {
          "output_type": "stream",
          "text": [
            "45\n",
            "24\n"
          ],
          "name": "stdout"
        }
      ]
    },
    {
      "cell_type": "markdown",
      "metadata": {
        "id": "uHkd-y5VhVWC"
      },
      "source": [
        "(9) Write a Python program to randomly divide the students in this class into five groups for term projects, each group should have at least 3 students but no more than 5 students (including 5). Here is the students list: (3 points for extra)\n",
        "\n",
        "studnet_list = ['vmb0067','pc0353','snd0097','yye0005','sg0940','bk0301','rak0120','rrk0058','spk0057','vl0135','nm0547','pn0159',\n",
        "                'msp0174','dd0420','ds0761','rs0850','ss1995','at0739','at0768','mv0299','tv0119','dy0091']"
      ]
    },
    {
      "cell_type": "code",
      "metadata": {
        "id": "3iGbmcOBhTwy",
        "colab": {
          "base_uri": "https://localhost:8080/"
        },
        "outputId": "3f589e30-1138-4b56-dae0-93efee7b749d"
      },
      "source": [
        "import random\n",
        "student_list = ['vmb0067','pc0353','snd0097','yye0005','sg0940','bk0301','rak0120','rrk0058','spk0057',\n",
        "                'vl0135','nm0547','pn0159', 'msp0174','dd0420','ds0761','rs0850','ss1995','at0739','at0768',\n",
        "                'mv0299','tv0119','dy0091']\n",
        "group_size = []\n",
        "for i in range(5):\n",
        "  group_size.append(random.randint(3,5))\n",
        "\n",
        "if sum(group_size) == len(student_list):\n",
        "  print(group_size)\n",
        "  for j in range(5):\n",
        "    sample_students = random.sample(student_list,group_size[j-1])\n",
        "    student_list = [j for j in student_list if j not in sample_students]\n",
        "    print(\"students \" +str(j+1)+ \" : \",sample_students)\n"
      ],
      "execution_count": 29,
      "outputs": [
        {
          "output_type": "stream",
          "text": [
            "[4, 5, 4, 5, 4]\n",
            "students 1 :  ['rs0850', 'at0739', 'spk0057', 'dd0420']\n",
            "students 2 :  ['nm0547', 'vmb0067', 'dy0091', 'ds0761']\n",
            "students 3 :  ['mv0299', 'yye0005', 'sg0940', 'tv0119', 'msp0174']\n",
            "students 4 :  ['bk0301', 'snd0097', 'pn0159', 'at0768']\n",
            "students 5 :  ['rrk0058', 'vl0135', 'pc0353', 'ss1995', 'rak0120']\n"
          ],
          "name": "stdout"
        }
      ]
    }
  ]
}