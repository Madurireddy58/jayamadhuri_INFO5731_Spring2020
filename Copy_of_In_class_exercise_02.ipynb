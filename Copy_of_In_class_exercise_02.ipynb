{
  "nbformat": 4,
  "nbformat_minor": 0,
  "metadata": {
    "colab": {
      "name": "Copy of In_class_exercise_02.ipynb",
      "provenance": [],
      "collapsed_sections": [],
      "include_colab_link": true
    },
    "kernelspec": {
      "display_name": "Python 3",
      "language": "python",
      "name": "python3"
    },
    "language_info": {
      "codemirror_mode": {
        "name": "ipython",
        "version": 3
      },
      "file_extension": ".py",
      "mimetype": "text/x-python",
      "name": "python",
      "nbconvert_exporter": "python",
      "pygments_lexer": "ipython3",
      "version": "3.7.4"
    }
  },
  "cells": [
    {
      "cell_type": "markdown",
      "metadata": {
        "id": "view-in-github",
        "colab_type": "text"
      },
      "source": [
        "<a href=\"https://colab.research.google.com/github/Madurireddy58/jayamadhuri_INFO5731_Spring2021/blob/main/Copy_of_In_class_exercise_02.ipynb\" target=\"_parent\"><img src=\"https://colab.research.google.com/assets/colab-badge.svg\" alt=\"Open In Colab\"/></a>"
      ]
    },
    {
      "cell_type": "markdown",
      "metadata": {
        "id": "oo5bsEh2eeWi"
      },
      "source": [
        "# **The second In-class-exercise (1/27/2021, 20 points in total)**\n"
      ]
    },
    {
      "cell_type": "markdown",
      "metadata": {
        "id": "2sPQ58dIeqgp"
      },
      "source": [
        "(1) Write a Python program to find the duplicate elements in a given array of integers. Return -1 If there are no such elements. (4 points)"
      ]
    },
    {
      "cell_type": "code",
      "metadata": {
        "id": "mnrvKMFTeoJR"
      },
      "source": [
        "# write your answer here\n",
        "\n",
        "def duplicate(integers):\n",
        "  num_set = set()\n",
        "  no_duplicate = -1\n",
        "\n",
        "  for i in range(len(integers)):\n",
        "    if integers[i] in num_set:\n",
        "      return integers[i]\n",
        "    else:\n",
        "      num_set.add(integers[i])\n",
        "  return no_duplicate\n",
        "\n",
        "print(duplicate([1, 4 , 3, 5, 4, 4]))\n",
        "print(duplicate([1, 2, 3, 4]))\n",
        "print(duplicate([1, 1, 2, 3, 3, 2, 2]))\n",
        "\n",
        "   \n",
        "        \n"
      ],
      "execution_count": null,
      "outputs": []
    },
    {
      "cell_type": "markdown",
      "metadata": {
        "id": "YYrH6n6IhZoQ"
      },
      "source": [
        "(2) Write a Python program to select all the Sundays of a specified year. (4 points)\n",
        "\n"
      ]
    },
    {
      "cell_type": "code",
      "metadata": {
        "id": "OSfPLd23eLpX"
      },
      "source": [
        "# write your answer here\n",
        "\n",
        "from datetime import date, timedelta\n",
        "\n",
        "def all_sundays(year):\n",
        "  dt = date(year, 1, 1)      \n",
        "  dt =dt+timedelta(days = 6 - dt.weekday())\n",
        "  while dt.year == year:\n",
        "    yield dt\n",
        "    dt += timedelta(days = 7)\n",
        "          \n",
        "for s in all_sundays(2020):\n",
        "   print(s)\n",
        "\n"
      ],
      "execution_count": null,
      "outputs": []
    },
    {
      "cell_type": "markdown",
      "metadata": {
        "id": "UIpziZ6Sjie-"
      },
      "source": [
        "(3) Python files reading and writing. Download the “[exercise_02_data _collection.zip](https://github.com/unt-iialab/info5731_spring2021/blob/main/class_exercises/exercise_02_data_collection.zip)” to your local and un-zip it.\n",
        "\n",
        "*   Write a program to read all the txt files and save the sentences in all the files into one csv file with two columns, the first column is sentence id (txt file name+sentence line number), the second column is the sentence text content. (4 points)\n",
        "*   Remove all the punctuations from the sentences, save the processed sentences into a new column in the same csv file. (4 points)\n",
        "*   Ask the user to enter a word, return all the sentences that include this word, three kinds of information should be returned: sentence id, sentence text content, the count that user input word appear in the sentence. (4 points)\n",
        "\n"
      ]
    },
    {
      "cell_type": "code",
      "metadata": {
        "id": "f3CUsrWOj1Xy"
      },
      "source": [
        "# write your answer here\n",
        "\n",
        "# Question 3-1\n",
        "\n",
        "import csv\n",
        "with open(\"output.csv\",\"w\") as output_file:\n",
        "  line_output = csv.writer(output_file,delimiter = ',')\n",
        "  i=1\n",
        "  while i <=100: \n",
        "    input_file_name =\"ARTHROTEC.1.txt\"\n",
        "    output_line_name = \"ARTHROTEC.\"+str(i)\n",
        "    input_file = open(input_file_name).read()\n",
        "    sentences = input_file.split('\\n')\n",
        "    for x in sentences:\n",
        "       if x == '':\n",
        "         sentences.remove(x)\n",
        "    for x in sentences:\n",
        "       sentence_id = output_line_name+\" - line\" +str(sentences.index(x)+1)\n",
        "       print(sentence_id)\n",
        "       line_output.writerows([sentence_id,x])\n",
        "    i += 1\n",
        "\n",
        "#Question 3-2\n",
        "\n",
        "import csv\n",
        "import re\n",
        "temp_data = []\n",
        "with open(\"output.csv\",'r') as input_file:\n",
        "   file_reader = csv.reader(input_file)\n",
        "   for row in file_reader:\n",
        "     clean_line = re.sub(r\"[^a-zA-Z\\s\\']\",\"\",row[1])\n",
        "     clean_line = re.sub(\"\\s\\s\",\" \",clean_line)\n",
        "     row.append(clean_line)\n",
        "     temp_data.append(row)\n",
        "with open(\"output.csv\",\"w\") as output_file:\n",
        "    file_writer = csv.writer(output_file,delimiter=',')\n",
        "    file_writer.writerows(temp_data)\n",
        "\n",
        "\n",
        "#Question 3-3\n",
        "\n",
        "import csv\n",
        "import re\n",
        "user_input = input(\"Enter a word: \")\n",
        "with open(\"output.csv\",'r') as input_file:\n",
        "  file_reader = csv.reader(input_file)\n",
        "  for row in file_reader:\n",
        "    search_term = \" \"+user_input+\" \"\n",
        "    if search_term in row[2]:\n",
        "      found_words = re.findall(search_term,row[2])\n",
        "      print(row[0],row[1],len(found_words))"
      ],
      "execution_count": null,
      "outputs": []
    },
    {
      "cell_type": "markdown",
      "metadata": {
        "id": "-12cqmJEpZOh"
      },
      "source": [
        "(4) Install packages nltk, numpy, scipy, pandas, and sklearn on Google Colab. Write a program to test whether they are installed successfully. (3 points for extra)"
      ]
    },
    {
      "cell_type": "code",
      "metadata": {
        "id": "f1pn1Zl2qK77"
      },
      "source": [
        "# write your answer here\n",
        "\n",
        "! pip install nltk\n",
        "! pip install numpy\n",
        "! pip install scipy\n",
        "! pip install pandas\n",
        "! pip install scikit-learn\n",
        "\n",
        "\n",
        "#test nltk\n",
        "from nltk.tokenize import TweetTokenizer\n",
        "tknzr = TweetTokenizer()\n",
        "s0 = \"This is a test program for nltk\"\n",
        "print(tknzr.tokenize(s0))\n",
        "print(\"*********\")\n",
        "\n",
        "#test numpy\n",
        "import numpy as np\n",
        "random_sample = np.random.random_sample()\n",
        "print(random_sample)\n",
        "print(\"******\")\n",
        "\n",
        "#test scipy\n",
        "import numpy as np\n",
        "from scipy.optimize import minimize\n",
        "def rosen(x):\n",
        "  \"\"\" The Rosenbrock function\"\"\"\n",
        "  return sum(100.0*(x[1:]-x[:-1]**2.0)**2.0 +(1-x[:-1]) **2.0)\n",
        "x0 = np.array([1.3, 0.6, 0.7, 1.9, 1.3])\n",
        "res = minimize(rosen, x0, method= 'nelder-mead', options={'xatol': 1e-8, 'disp': True})\n",
        "print(res)\n",
        "print(\"******\")\n",
        "\n",
        "#test pandas\n",
        "import pandas as pd\n",
        "d = {'col1': [1,2], 'col2': [3,4]}\n",
        "df = pd.DataFrame(data=d)\n",
        "print(df)\n",
        "print(\"******\")\n",
        "\n",
        "#test scikit-learn\n",
        "from sklearn import datasets\n",
        "iris = datasets.load_iris()\n",
        "digits = datasets.load_digits()\n",
        "print(digits.data)\n",
        "\n",
        "\n",
        "\n",
        "\n",
        "\n"
      ],
      "execution_count": null,
      "outputs": []
    }
  ]
}